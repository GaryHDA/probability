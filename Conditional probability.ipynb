{
 "cells": [
  {
   "cell_type": "markdown",
   "metadata": {},
   "source": [
    "### Conditional probability\n",
    "\n",
    "Definition of and application examples\n",
    "\n",
    "#### Usage\n",
    "\n",
    "A quick review before jumping into ML/AI and the use of Bayes Theorem in applications like scikit-learn or PyTorch\n",
    "\n",
    "#### References\n",
    "\n",
    "1. Introduction à la théorie de probability: Robert Dalang\n",
    "2. Data Science par la pratique: Joel grus\n",
    "3. Scipy stats: https://docs.scipy.org/doc/scipy/reference/stats.html#discrete-distributions\n",
    "4. Pandas docs: https://pandas.pydata.org/pandas-docs/stable/\n",
    "5. Numpy docs: https://docs.scipy.org/doc/numpy-1.13.0/reference/\n",
    "6. Writing equations in the notebook: https://jupyter-notebook.readthedocs.io/en/stable/examples/Notebook/Typesetting%20Equations.html"
   ]
  },
  {
   "cell_type": "code",
   "execution_count": 1,
   "metadata": {},
   "outputs": [],
   "source": [
    "import numpy as np\n",
    "import pandas as pd\n",
    "import matplotlib\n",
    "import matplotlib.pyplot as plt\n",
    "import scipy\n",
    "import seaborn"
   ]
  },
  {
   "cell_type": "markdown",
   "metadata": {},
   "source": [
    "### Conditional probability: definition\n",
    "\n",
    "Given two events $a$ and $b$. The probality of a happening is $P(a)$ but what happens if $b$ happens. Does the value of $P(a)$ change given that $b$ happened? Or we could ask \"What is $P(a)$ given $P(b)$ ?\"\n",
    "\n",
    "Preciseley if $P(b) > 0$ then $P(a|b) = \\frac{P(a\\cap b)}{P(b)}$\n",
    "\n",
    "### What is the probability of $a$ given $b$ ?"
   ]
  },
  {
   "cell_type": "markdown",
   "metadata": {},
   "source": [
    "### Back to the Urn problem (with a twist and repalcement)\n",
    "\n",
    "An urn has 6 red balls and 5 black balls. We draw a ball. If the ball we draw is red, then we throw\n",
    "out the ball we chose, and two aditional red balls are placed into the urn. The same for the blue\n",
    "balls. With that said, on each draw, the number of balls in the urn grows."
   ]
  },
  {
   "cell_type": "code",
   "execution_count": 2,
   "metadata": {},
   "outputs": [
    {
     "data": {
      "text/plain": [
       "0.5454545454545454"
      ]
     },
     "execution_count": 2,
     "metadata": {},
     "output_type": "execute_result"
    }
   ],
   "source": [
    "# first draw:\n",
    "# what is the probability that the first ball is red?\n",
    "numRed = 6\n",
    "numBlack = 5\n",
    "Pred= numRed/(numBlack + numRed)\n",
    "Pred"
   ]
  },
  {
   "cell_type": "markdown",
   "metadata": {},
   "source": [
    "Take a look at that using probability notation (where the subscript is the draw number) and r = redball and b = blackball:\n",
    "\n",
    "First draw is red:\n",
    "\n",
    "$\\displaystyle P(R_1) = \\frac{r}{r+b}$\n",
    "\n",
    "Second draw is red:\n",
    "\n",
    "$\\displaystyle P(R_2) = \\frac{r+1}{r + b + 1}$\n",
    "\n",
    "So to figure that out we need to look at both $P(R_1)$ and $P(R_2)$ together:\n",
    "\n",
    "$\\displaystyle P(R_2|R_1) = \\frac{P(R_2\\cap R_1)}{P(R_1)}$\n",
    "\n",
    "\n",
    "\n",
    "\n",
    "\n",
    "\n",
    "\n"
   ]
  },
  {
   "cell_type": "code",
   "execution_count": 3,
   "metadata": {},
   "outputs": [
    {
     "data": {
      "text/plain": [
       "0.5833333333333334"
      ]
     },
     "execution_count": 3,
     "metadata": {},
     "output_type": "execute_result"
    }
   ],
   "source": [
    "Rone = Pred\n",
    "Rtwo = (numRed + 1)/(numBlack + numRed + 1)\n",
    "PredTwo = (Rone * Rtwo)/Rone \n",
    "PredTwo"
   ]
  },
  {
   "cell_type": "markdown",
   "metadata": {},
   "source": [
    "#### Take a look at that using notation: \n",
    "\n",
    "\n",
    "$\\displaystyle P(R_2|R_1) = \\frac{P(R_2\\cap R_1)}{P(R_1)} = \\frac{P(R_2)P(R_1)}{P(R_1)} = P(R_2)$"
   ]
  },
  {
   "cell_type": "markdown",
   "metadata": {},
   "source": [
    "### What if you don't you know what the first draw is ?\n",
    "\n",
    "Then you need to apply the law of Total Probability. This allows us to account for the event that the first draw was a blackball.\n",
    "\n",
    "If $\\displaystyle P(B_1)$ equals the event that the first ball picked was black and $\\displaystyle P(R_b)$ equals the event that the second ball peicked was red and the first ball was black then:\n",
    "\n",
    "$ \\displaystyle P(R_2) = P(R_2\\cap R_1) + P(R_b)\\cap B_1)$\n",
    "\n"
   ]
  },
  {
   "cell_type": "code",
   "execution_count": 4,
   "metadata": {},
   "outputs": [
    {
     "data": {
      "text/plain": [
       "0.5454545454545454"
      ]
     },
     "execution_count": 4,
     "metadata": {},
     "output_type": "execute_result"
    }
   ],
   "source": [
    "# we already no what the first term is\n",
    "# just figure out the second term\n",
    "\n",
    "Pblack = numBlack/(numBlack + numRed)#<--- probability that the first ball was black\n",
    "PblackRedTwo = numRed/(numBlack + numRed + 1)#<---- add one ball to the total number of balls\n",
    "blackFirst = Pblack * PblackRedTwo#<---- its an intersection so multiply\n",
    "redFirst = Pred * PredTwo \n",
    "\n",
    "# now add the two possible events:\n",
    "\n",
    "redFirst + blackFirst\n"
   ]
  },
  {
   "cell_type": "markdown",
   "metadata": {},
   "source": [
    "### This is called a Martingale process, from wikipedia:\n",
    "\n",
    "\"The concept of martingale in probability theory was introduced by Paul Lévy in 1934, though he did not name it. The term \"martingale\" was introduced later by Ville (1939), who also extended the definition to continuous martingales. Much of the original development of the theory was done by Joseph Leo Doob among others. Part of the motivation for that work was to show the impossibility of successful betting strategies.\" \n",
    "\n",
    "https://en.wikipedia.org/wiki/Martingale_(probability_theory)"
   ]
  },
  {
   "cell_type": "code",
   "execution_count": null,
   "metadata": {},
   "outputs": [],
   "source": []
  }
 ],
 "metadata": {
  "kernelspec": {
   "display_name": "Python 3",
   "language": "python",
   "name": "python3"
  },
  "language_info": {
   "codemirror_mode": {
    "name": "ipython",
    "version": 3
   },
   "file_extension": ".py",
   "mimetype": "text/x-python",
   "name": "python",
   "nbconvert_exporter": "python",
   "pygments_lexer": "ipython3",
   "version": "3.7.0"
  }
 },
 "nbformat": 4,
 "nbformat_minor": 2
}
