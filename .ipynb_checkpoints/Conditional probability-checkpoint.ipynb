{
 "cells": [
  {
   "cell_type": "markdown",
   "metadata": {},
   "source": [
    "### Conditional probability\n",
    "\n",
    "Definition of and application examples\n",
    "\n",
    "#### Usage\n",
    "\n",
    "A quick review before jumping into ML/AI and the use of Bayes Theorem in applications like scikit-learn or PyTorch\n",
    "\n",
    "#### References\n",
    "\n",
    "1. Introduction à la théorie de probability: Robert Dalang\n",
    "2. Data Science par la pratique: Joel grus\n",
    "3. Scipy stats: https://docs.scipy.org/doc/scipy/reference/stats.html#discrete-distributions\n",
    "4. Pandas docs: https://pandas.pydata.org/pandas-docs/stable/\n",
    "5. Numpy docs: https://docs.scipy.org/doc/numpy-1.13.0/reference/\n",
    "6. Writing equations in the notebook: https://jupyter-notebook.readthedocs.io/en/stable/examples/Notebook/Typesetting%20Equations.html"
   ]
  },
  {
   "cell_type": "code",
   "execution_count": 1,
   "metadata": {},
   "outputs": [],
   "source": [
    "import numpy as np\n",
    "import pandas as pd\n",
    "import matplotlib\n",
    "import matplotlib.pyplot as plt\n",
    "import scipy\n",
    "import seaborn"
   ]
  },
  {
   "cell_type": "markdown",
   "metadata": {},
   "source": [
    "### Conditional probability: definition\n",
    "\n",
    "Given two events $a$ and $b$. The probality of a happening is $P(a)$ but what happens if $b$ happens. Does the value of $P(a)$ change given that $b$ happened? Or we could ask \"What is $P(a)$ given $P(b)$ ?\"\n",
    "\n",
    "Preciseley if $P(b) > 0$ then $P(a|b) = \\frac{P(a\\cap b)}{P(b)}$\n",
    "\n",
    "### What is the probability of $a$ given $b$ ?"
   ]
  },
  {
   "cell_type": "markdown",
   "metadata": {},
   "source": [
    "### Back to the Urn problem\n",
    "\n",
    "An urn has 6 red balls and 5 black balls. Pull two balls out of the urn w/o replacement. What is the probability that the second ball will be black if the first ball was red?"
   ]
  },
  {
   "cell_type": "code",
   "execution_count": 2,
   "metadata": {},
   "outputs": [
    {
     "data": {
      "text/plain": [
       "0.5"
      ]
     },
     "execution_count": 2,
     "metadata": {},
     "output_type": "execute_result"
    }
   ],
   "source": [
    "pR = 6/11 #<---- initially there are 6 red bals and 11 total\n",
    "pB = 5/10 #<---- after the first draw there is 10 balls left, five of which are black\n",
    "pAny = 10/10 # <---- after the first draw the probability that any ball will be pulled is 1\n",
    "\n",
    "(pR * pB)/(pR * pAny)"
   ]
  },
  {
   "cell_type": "code",
   "execution_count": null,
   "metadata": {},
   "outputs": [],
   "source": []
  }
 ],
 "metadata": {
  "kernelspec": {
   "display_name": "Python 3",
   "language": "python",
   "name": "python3"
  },
  "language_info": {
   "codemirror_mode": {
    "name": "ipython",
    "version": 3
   },
   "file_extension": ".py",
   "mimetype": "text/x-python",
   "name": "python",
   "nbconvert_exporter": "python",
   "pygments_lexer": "ipython3",
   "version": "3.7.0"
  }
 },
 "nbformat": 4,
 "nbformat_minor": 2
}
