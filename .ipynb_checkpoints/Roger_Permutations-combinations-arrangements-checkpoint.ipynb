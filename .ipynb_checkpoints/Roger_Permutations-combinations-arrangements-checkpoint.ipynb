{
 "cells": [
  {
   "cell_type": "markdown",
   "metadata": {},
   "source": [
    "### Discrete random variables\n",
    "#### Binomial variable, permutations, combinations, hypergeometric distribution\n",
    "\n",
    "Expressing different types of discrete random variables in python. First derive it then apply the appropriate python package.\n",
    "\n",
    "#### Usage\n",
    "\n",
    "A quick review before jumping into ML/AI and the use of Bayes Theorem in applications like scikit-learn or PyTorch\n",
    "\n",
    "#### References\n",
    "\n",
    "1. Introduction à la théorie de probability: Robert Dalang\n",
    "2. Data Science par la pratique: Joel grus\n",
    "3. Scipy stats: https://docs.scipy.org/doc/scipy/reference/stats.html#discrete-distributions\n",
    "4. Pandas docs: https://pandas.pydata.org/pandas-docs/stable/\n",
    "5. Numpy docs: https://docs.scipy.org/doc/numpy-1.13.0/reference/\n",
    "6. Writing equations in the notebook: https://jupyter-notebook.readthedocs.io/en/stable/examples/Notebook/Typesetting%20Equations.html"
   ]
  },
  {
   "cell_type": "code",
   "execution_count": 1,
   "metadata": {},
   "outputs": [],
   "source": [
    "import numpy as np\n",
    "import pandas as pd\n",
    "import matplotlib\n",
    "import matplotlib.pyplot as plt\n",
    "import scipy\n",
    "import seaborn\n"
   ]
  },
  {
   "cell_type": "markdown",
   "metadata": {},
   "source": [
    "### Combinations and permutations\n",
    "\n",
    "#### Mutliplication principle: how many posible outcomes?\n",
    "\n",
    "Basis of the technique for enumerating. Very simple really. Imagine an experiment that has three stages. The first stage has three possible results, the second stage has four and the third stage has 2 possible results."
   ]
  },
  {
   "cell_type": "code",
   "execution_count": 2,
   "metadata": {},
   "outputs": [
    {
     "data": {
      "text/plain": [
       "24"
      ]
     },
     "execution_count": 2,
     "metadata": {},
     "output_type": "execute_result"
    }
   ],
   "source": [
    "# in that case it would look like:\n",
    "3*4*2"
   ]
  },
  {
   "cell_type": "code",
   "execution_count": 3,
   "metadata": {},
   "outputs": [
    {
     "data": {
      "text/plain": [
       "160"
      ]
     },
     "execution_count": 3,
     "metadata": {},
     "output_type": "execute_result"
    }
   ],
   "source": [
    "# expressed as a function with just the three stages:\n",
    "def multiplcationPrinciple(a, b, c):\n",
    "    return a*b*c\n",
    "# a function that covers an unlimited number of stages:\n",
    "def alotOfTrials(a_list_of_results):\n",
    "    placeHolder = 1\n",
    "    for i in range(len(a_list_of_results)):\n",
    "        placeHolder *= a_list_of_results[i]\n",
    "    return placeHolder\n",
    "a = [2, 2, 2, 2, 10]\n",
    "alotOfTrials(a)                   \n"
   ]
  },
  {
   "cell_type": "code",
   "execution_count": 4,
   "metadata": {},
   "outputs": [
    {
     "data": {
      "text/plain": [
       "160"
      ]
     },
     "execution_count": 4,
     "metadata": {},
     "output_type": "execute_result"
    }
   ],
   "source": [
    "# this is a little more concise but you need to import functools\n",
    "# probably the fastest\n",
    "import functools\n",
    "functools.reduce(lambda x,y: x*y, a, 1)"
   ]
  },
  {
   "cell_type": "code",
   "execution_count": 5,
   "metadata": {},
   "outputs": [
    {
     "data": {
      "text/plain": [
       "160"
      ]
     },
     "execution_count": 5,
     "metadata": {},
     "output_type": "execute_result"
    }
   ],
   "source": [
    "# numpy is already imported\n",
    "# this will overflow if range of list > 21\n",
    "# definiteley the most convenient for small jobs\n",
    "np.prod(a)  "
   ]
  },
  {
   "cell_type": "markdown",
   "metadata": {},
   "source": [
    "### Permutations\n",
    "\n",
    "An ordered arangement without repetition of n distinct objects. How many permutations possible of n objects?"
   ]
  },
  {
   "cell_type": "markdown",
   "metadata": {},
   "source": [
    "In general the number of permutations of n objects is $n!$\n",
    "\n",
    "So in this case: $(a_{1}, a_{2}, a_{3}, a_{4}, a_{5})$ with the mutitiplication principle this equals $5!$\n"
   ]
  },
  {
   "cell_type": "code",
   "execution_count": 6,
   "metadata": {},
   "outputs": [
    {
     "data": {
      "text/plain": [
       "24"
      ]
     },
     "execution_count": 6,
     "metadata": {},
     "output_type": "execute_result"
    }
   ],
   "source": [
    "# manualy this looks like this\n",
    "# 1 needs to be added to the end point of the range function\n",
    "\n",
    "def makeFactorial(a):\n",
    "    b = 1\n",
    "    for i in range(1, a + 1):\n",
    "        b *= i\n",
    "    return b\n",
    "makeFactorial(4)"
   ]
  },
  {
   "cell_type": "code",
   "execution_count": 7,
   "metadata": {},
   "outputs": [
    {
     "name": "stdout",
     "output_type": "stream",
     "text": [
      "[[1, 2, 3, 4], [1, 2, 4, 3], [1, 3, 2, 4], [1, 3, 4, 2], [1, 4, 2, 3], [1, 4, 3, 2], [2, 1, 3, 4], [2, 1, 4, 3], [2, 3, 1, 4], [2, 3, 4, 1], [2, 4, 1, 3], [2, 4, 3, 1], [3, 1, 2, 4], [3, 1, 4, 2], [3, 2, 1, 4], [3, 2, 4, 1], [3, 4, 1, 2], [3, 4, 2, 1], [4, 1, 2, 3], [4, 1, 3, 2], [4, 2, 1, 3], [4, 2, 3, 1], [4, 3, 1, 2], [4, 3, 2, 1]]\n",
      "24\n"
     ]
    }
   ],
   "source": [
    "# the above function gives the number of possible permutations\n",
    "# but does not say what they are\n",
    "def permThis(lst):\n",
    "    if len(lst) == 0:\n",
    "        return []\n",
    "    if len(lst) == 1:\n",
    "        return [lst]\n",
    "    # that takes care of special cases\n",
    "    # take a look at all other cases\n",
    "    \n",
    "    a = []\n",
    "    for i in range(len(lst)):\n",
    "        b = lst[i]\n",
    "#         print(\"this is b\")\n",
    "#         print(b)\n",
    "#         print(\"this is lst[:i]\")\n",
    "#         print(lst[:i])\n",
    "#         print(\"this is lst[i+1:]\")\n",
    "#         print(lst[i+1:])\n",
    "        c = lst[:i] + lst[i+1:]\n",
    "#         print(\"this is c\")\n",
    "#         print(c)\n",
    "        # this is python and it is recursive:\n",
    "        for p in permThis(c):#<--- the function calling itself\n",
    "#             print(\"this is p\")\n",
    "#             print(p)\n",
    "            \n",
    "#             print(\"this is [b] + p\")\n",
    "#             print([b]+p)\n",
    "#             print(\"this is a\")\n",
    "#             print(a)\n",
    "            a.append([b]+p)\n",
    "    return a\n",
    "print(permThis([1,2,3,4]))\n",
    "print(len(permThis([1,2,3,4])))"
   ]
  },
  {
   "cell_type": "code",
   "execution_count": 8,
   "metadata": {},
   "outputs": [
    {
     "data": {
      "text/plain": [
       "24"
      ]
     },
     "execution_count": 8,
     "metadata": {},
     "output_type": "execute_result"
    }
   ],
   "source": [
    "# or of course there is alway numpy\n",
    "np.math.factorial(4)"
   ]
  },
  {
   "cell_type": "code",
   "execution_count": 9,
   "metadata": {},
   "outputs": [
    {
     "data": {
      "text/plain": [
       "24"
      ]
     },
     "execution_count": 9,
     "metadata": {},
     "output_type": "execute_result"
    }
   ],
   "source": [
    "# scipy works too\n",
    "# it is the same function\n",
    "scipy.math.factorial(4)"
   ]
  },
  {
   "cell_type": "markdown",
   "metadata": {},
   "source": [
    "### Arrangements\n",
    "\n",
    "An arrangement is a permutation of k objects taken from n distinct objects. The k objects are taken without repetition and are ordered. The number of possible arrangements is expressed like this $A_{n,k}$\n",
    "\n",
    "or like this:   $A_{n,k}= \\frac{n!}{(n-k)!}$"
   ]
  },
  {
   "cell_type": "code",
   "execution_count": 10,
   "metadata": {},
   "outputs": [
    {
     "data": {
      "text/plain": [
       "15600.0"
      ]
     },
     "execution_count": 10,
     "metadata": {},
     "output_type": "execute_result"
    }
   ],
   "source": [
    "# there is already a solution for this\n",
    "# The question is how many three letter combinations can be made from an alphabet of 26 letters:\n",
    "n = 26\n",
    "k = 3\n",
    "b = makeFactorial(n)\n",
    "c = makeFactorial(n-k)\n",
    "numberOfCombinations = b/c\n",
    "numberOfCombinations"
   ]
  },
  {
   "cell_type": "markdown",
   "metadata": {},
   "source": [
    "### Combinations - binomial coefficient\n",
    "\n",
    "A combination of $k$ elements taken from $n$ elements is an unorderd group of $k$ elements (the difference from an arangement). This is commonly expressed like this: $C_{n,k}$  or  $\\binom{n}{k}$\n",
    "\n",
    "As a result each subgroup has $k!$ possible arrangements. So a combination looks like this: $A_{n,k} = C_{n,k} * k!$\n",
    "\n",
    "More preciseley : $\\binom{n}{k} = \\frac{n!}{k!(n-k)!}$\n"
   ]
  },
  {
   "cell_type": "code",
   "execution_count": 11,
   "metadata": {},
   "outputs": [
    {
     "data": {
      "text/plain": [
       "2600.0"
      ]
     },
     "execution_count": 11,
     "metadata": {},
     "output_type": "execute_result"
    }
   ],
   "source": [
    "# how would this look with the previous example?\n",
    "# add k factorial\n",
    "d = makeFactorial(k)\n",
    "e = d*c\n",
    "b/e"
   ]
  },
  {
   "cell_type": "code",
   "execution_count": 12,
   "metadata": {},
   "outputs": [
    {
     "data": {
      "text/plain": [
       "8855.0"
      ]
     },
     "execution_count": 12,
     "metadata": {},
     "output_type": "execute_result"
    }
   ],
   "source": [
    "# try this on another example. A club of 23 members needs to make a commitee of 4 members.\n",
    "#n:\n",
    "members = 23\n",
    "#k:\n",
    "commitee = 4\n",
    "# how many possible combinations of 4 commitee memebers?\n",
    "makeFactorial(members)/(makeFactorial(4)*makeFactorial(members-commitee))"
   ]
  },
  {
   "cell_type": "markdown",
   "metadata": {},
   "source": [
    "### Draw without replacement\n",
    "\n",
    "Because this wouldn't be complete without at least one of these excercises! Given an urn that contains $n$ black balls and $m$ red balls if a group $k$ of balls is drawn from the urn:\n",
    "\n",
    "What is the probability of drawing $r$ red balls and $k$ - $r$ black balls? for the record: $(r \\leq k \\leq m + n$ and $ k-r \\leq n)$\n",
    "\n",
    "First describe all the results possible:  $\\Omega=\\binom {m+n}{k}$\n",
    "\n",
    "Then in terms of the draws: $G=\\frac{\\binom{m}{r} \\binom{n}{k-r}} {\\binom {m+n} {k}}$"
   ]
  },
  {
   "cell_type": "markdown",
   "metadata": {},
   "source": [
    "### Given an urn with 7 balls and five are red.  Given two draws without replacement, what is the chance of drawing one red ball and one black ball?"
   ]
  },
  {
   "cell_type": "code",
   "execution_count": 13,
   "metadata": {},
   "outputs": [],
   "source": [
    "def factorIt(v):\n",
    "    return np.math.factorial(v)"
   ]
  },
  {
   "cell_type": "code",
   "execution_count": 14,
   "metadata": {},
   "outputs": [],
   "source": [
    "s = factorIt(5)\n",
    "t = factorIt(2)\n",
    "u = factorIt(1)\n",
    "v = factorIt(7)\n",
    "w = factorIt(4)"
   ]
  },
  {
   "cell_type": "code",
   "execution_count": 15,
   "metadata": {},
   "outputs": [],
   "source": [
    "xOne = s/(u*w)\n",
    "xTwo = t/(u*u)\n",
    "xThree = v/(t*s)"
   ]
  },
  {
   "cell_type": "code",
   "execution_count": 16,
   "metadata": {},
   "outputs": [
    {
     "data": {
      "text/plain": [
       "0.47619047619047616"
      ]
     },
     "execution_count": 16,
     "metadata": {},
     "output_type": "execute_result"
    }
   ],
   "source": [
    "((xOne*xTwo)/xThree)"
   ]
  },
  {
   "cell_type": "markdown",
   "metadata": {},
   "source": [
    "### Same scenario: what is the probability that the first ball will be red?"
   ]
  },
  {
   "cell_type": "code",
   "execution_count": 17,
   "metadata": {},
   "outputs": [
    {
     "data": {
      "text/plain": [
       "0.7142857142857143"
      ]
     },
     "execution_count": 17,
     "metadata": {},
     "output_type": "execute_result"
    }
   ],
   "source": [
    "# draw one red ball out of five:\n",
    "oneRed = factorIt(5)/(factorIt(1)*factorIt(4))\n",
    "anyBall = factorIt(7)/(factorIt(1)*factorIt(6))\n",
    "oneRed/anyBall"
   ]
  },
  {
   "cell_type": "markdown",
   "metadata": {},
   "source": [
    "#### what is the probability that the second ball is black ?"
   ]
  },
  {
   "cell_type": "code",
   "execution_count": 18,
   "metadata": {},
   "outputs": [
    {
     "data": {
      "text/plain": [
       "0.3333333333333333"
      ]
     },
     "execution_count": 18,
     "metadata": {},
     "output_type": "execute_result"
    }
   ],
   "source": [
    "# remember that the first ball has to be red:\n",
    "firstRed = oneRed/anyBall\n",
    "secBlack = factorIt(2)/(factorIt(1)*factorIt(1))\n",
    "anyOther = factorIt(6)/(factorIt(1)*factorIt(5))\n",
    "secBlack/anyOther"
   ]
  },
  {
   "cell_type": "markdown",
   "metadata": {},
   "source": [
    "### Probability of drawing a royal flush (five card stud) 52 card deck"
   ]
  },
  {
   "cell_type": "code",
   "execution_count": 19,
   "metadata": {},
   "outputs": [],
   "source": [
    "# first determine how many different five card hands are possible:\n",
    "noCards = 52\n",
    "hand = 5\n",
    "numHands=factorIt(52)/(factorIt(5)*factorIt(47))"
   ]
  },
  {
   "cell_type": "code",
   "execution_count": 20,
   "metadata": {},
   "outputs": [],
   "source": [
    "# there are four possible suits\n",
    "noSuits = 4\n",
    "# the cards need to be in order so there are 10 possible high cards per suit (5 -> ace)\n",
    "noHighCards = 10\n",
    "royalFlush = noSuits*noHighCards"
   ]
  },
  {
   "cell_type": "code",
   "execution_count": 21,
   "metadata": {},
   "outputs": [
    {
     "data": {
      "text/plain": [
       "1.5390771693292702e-05"
      ]
     },
     "execution_count": 21,
     "metadata": {},
     "output_type": "execute_result"
    }
   ],
   "source": [
    "probRoyalFlush = royalFlush/numHands\n",
    "probRoyalFlush"
   ]
  },
  {
   "cell_type": "markdown",
   "metadata": {},
   "source": [
    "### Hypergeometric distribution -- test our results against the standard library solution\n",
    "\n",
    "This type of problem follows a $Hypergeometric distribution$, fortunateley we can check our results against a scipy model that calculates the PMF for a hypergeometric distribution. "
   ]
  },
  {
   "cell_type": "code",
   "execution_count": 22,
   "metadata": {},
   "outputs": [],
   "source": [
    "from scipy.stats import hypergeom"
   ]
  },
  {
   "cell_type": "code",
   "execution_count": 23,
   "metadata": {},
   "outputs": [
    {
     "data": {
      "text/plain": [
       "array([0.28571429, 0.71428571, 0.        , 0.        , 0.        ,\n",
       "       0.        ])"
      ]
     },
     "execution_count": 23,
     "metadata": {},
     "output_type": "execute_result"
    }
   ],
   "source": [
    "[M, n, N] = [7, 5, 1]#<---- M=total balls, n=red balls, N=number of draws\n",
    "rv = hypergeom(M, n, N)\n",
    "x = np.arange(0, n+1)#<---- ensures that range of possible draws is covered\n",
    "pmf_red = rv.pmf(x)\n",
    "pmf_red #<--- print the results"
   ]
  },
  {
   "cell_type": "code",
   "execution_count": 24,
   "metadata": {},
   "outputs": [
    {
     "data": {
      "image/png": "[encoded data removed]",
      "text/plain": [
       "<Figure size 432x288 with 1 Axes>"
      ]
     },
     "metadata": {
      "needs_background": "light"
     },
     "output_type": "display_data"
    }
   ],
   "source": [
    "# the results are given in an array, where the index number of the array corresponds to the draw numnber\n",
    "# the chance of getting \"Zero red balls\" ~ 28% and getting one ~ 72%\n",
    "# chart that:\n",
    "\n",
    "fig = plt.figure()\n",
    "ax = fig.add_subplot(111)\n",
    "ax.plot(x, pmf_red, 'bo')\n",
    "ax.vlines(x, 0, pmf_red, lw=2)\n",
    "ax.set_xlabel('# of redballs in our group of chosen balls')\n",
    "ax.set_ylabel('hypergeom PMF')\n",
    "plt.show()"
   ]
  },
  {
   "cell_type": "code",
   "execution_count": 25,
   "metadata": {},
   "outputs": [
    {
     "data": {
      "text/plain": [
       "array([0.66666667, 0.33333333, 0.        ])"
      ]
     },
     "execution_count": 25,
     "metadata": {},
     "output_type": "execute_result"
    }
   ],
   "source": [
    "# repeat that for the second draw of one black ball:\n",
    "\n",
    "[M, n, N] = [6, 2, 1]#<---- M=total balls, n= black balls, N=number of draws\n",
    "bv = hypergeom(M, n, N)\n",
    "x = np.arange(0, n+1)#<---- ensures that range of possible draws is covered\n",
    "pmf_black = bv.pmf(x)\n",
    "pmf_black #<--- get the results\n"
   ]
  },
  {
   "cell_type": "code",
   "execution_count": 26,
   "metadata": {},
   "outputs": [],
   "source": [
    "# the answers we got using our own functions match the expected output from the standard library!"
   ]
  },
  {
   "cell_type": "markdown",
   "metadata": {},
   "source": [
    "### There are few Python standard libraries to do permutations and combinations\n",
    "\n",
    "1. Itertools:"
   ]
  },
  {
   "cell_type": "code",
   "execution_count": 27,
   "metadata": {},
   "outputs": [],
   "source": [
    "from itertools import permutations, combinations, combinations_with_replacement"
   ]
  },
  {
   "cell_type": "code",
   "execution_count": 28,
   "metadata": {},
   "outputs": [
    {
     "data": {
      "text/plain": [
       "6"
      ]
     },
     "execution_count": 28,
     "metadata": {},
     "output_type": "execute_result"
    }
   ],
   "source": [
    "### How many combinations are possible of elements of a list of len l?\n",
    "aList = [1,2,3]\n",
    "N = len(aList)\n",
    "# number of combinations is N!:\n",
    "factorIt(N)\n"
   ]
  },
  {
   "cell_type": "code",
   "execution_count": 29,
   "metadata": {},
   "outputs": [
    {
     "data": {
      "text/plain": [
       "[(1, 2, 3), (1, 3, 2), (2, 1, 3), (2, 3, 1), (3, 1, 2), (3, 2, 1)]"
      ]
     },
     "execution_count": 29,
     "metadata": {},
     "output_type": "execute_result"
    }
   ],
   "source": [
    "# so what are those combinations?\n",
    "list(permutations(aList))"
   ]
  },
  {
   "cell_type": "code",
   "execution_count": 30,
   "metadata": {},
   "outputs": [
    {
     "name": "stdout",
     "output_type": "stream",
     "text": [
      "[(1, 2), (1, 3), (2, 1), (2, 3), (3, 1), (3, 2)] 6\n"
     ]
    }
   ],
   "source": [
    "# how many combinations of k elements are possibile? What are those combinations?\n",
    "def kPerm(L,k):\n",
    "    a = list(permutations(L, k))\n",
    "    b = len(a)\n",
    "    return a, b\n",
    "perms, numPerms = kPerm(aList, 2)\n",
    "print(perms, numPerms)  \n",
    "    "
   ]
  },
  {
   "cell_type": "markdown",
   "metadata": {},
   "source": [
    "#### Combinations"
   ]
  },
  {
   "cell_type": "code",
   "execution_count": 31,
   "metadata": {},
   "outputs": [
    {
     "data": {
      "text/plain": [
       "[(1, 2, 3)]"
      ]
     },
     "execution_count": 31,
     "metadata": {},
     "output_type": "execute_result"
    }
   ],
   "source": [
    "# get all combinations of a list\n",
    "list(combinations(aList, 3))\n",
    "# see how the output differs from a permutation?"
   ]
  },
  {
   "cell_type": "code",
   "execution_count": 32,
   "metadata": {},
   "outputs": [
    {
     "data": {
      "text/plain": [
       "[(1, 2), (1, 3), (2, 3)]"
      ]
     },
     "execution_count": 32,
     "metadata": {},
     "output_type": "execute_result"
    }
   ],
   "source": [
    "# get all combinations of two elements in a list:\n",
    "list(combinations(aList, 2))"
   ]
  },
  {
   "cell_type": "code",
   "execution_count": 33,
   "metadata": {},
   "outputs": [
    {
     "data": {
      "text/plain": [
       "[(1, 1), (1, 2), (1, 2)]"
      ]
     },
     "execution_count": 33,
     "metadata": {},
     "output_type": "execute_result"
    }
   ],
   "source": [
    "# Postion in the array is the identifying value\n",
    "# not the value of the element itself\n",
    "\n",
    "aListX = [1,1,2]\n",
    "list(combinations(aListX, 2))\n"
   ]
  },
  {
   "cell_type": "markdown",
   "metadata": {},
   "source": [
    "### Comparing out put from the concieved method to standard python library:\n",
    "\n",
    "1. Combinations\n",
    "2. Permutations\n",
    "\n",
    "A combination is expressed like this:  $\\binom{n}{k} = \\frac{n!}{k!(n-k)!}$\n"
   ]
  },
  {
   "cell_type": "code",
   "execution_count": 34,
   "metadata": {},
   "outputs": [
    {
     "name": "stdout",
     "output_type": "stream",
     "text": [
      "21.0\n",
      "21\n"
     ]
    }
   ],
   "source": [
    "# make a function from the makeFactorial method\n",
    "\n",
    "def dirtCombination(n, k):\n",
    "    a = makeFactorial(n)\n",
    "    b = makeFactorial(k)\n",
    "    c = n-k\n",
    "    d = makeFactorial(c)\n",
    "    return a/(b*d)\n",
    "theList = [1,2,3,4,5,6,7]\n",
    "    \n",
    "print(dirtCombination(len(theList),2))\n",
    "print(len(list(combinations(theList,2))))\n",
    "# okay so that works "
   ]
  },
  {
   "cell_type": "code",
   "execution_count": 35,
   "metadata": {},
   "outputs": [
    {
     "name": "stdout",
     "output_type": "stream",
     "text": [
      "5040 5040\n"
     ]
    }
   ],
   "source": [
    "# what about permutations\n",
    "\n",
    "# using itertools:\n",
    "libPerm = len(list(permutations(theList)))\n",
    "\n",
    "# using the concieved method:\n",
    "dirtPerm = len(permThis(theList))\n",
    "\n",
    "print(libPerm, dirtPerm)\n",
    "\n",
    "# okay so that works too!"
   ]
  },
  {
   "cell_type": "markdown",
   "metadata": {},
   "source": [
    "### End note book. Next computing the PMF from scratch and using standared python libraries."
   ]
  }
 ],
 "metadata": {
  "kernelspec": {
   "display_name": "Python 3",
   "language": "python",
   "name": "python3"
  },
  "language_info": {
   "codemirror_mode": {
    "name": "ipython",
    "version": 3
   },
   "file_extension": ".py",
   "mimetype": "text/x-python",
   "name": "python",
   "nbconvert_exporter": "python",
   "pygments_lexer": "ipython3",
   "version": "3.7.0"
  }
 },
 "nbformat": 4,
 "nbformat_minor": 2
}
