{
 "cells": [
  {
   "cell_type": "markdown",
   "metadata": {},
   "source": [
    "### Starter template litter surveillance project (lsp) 20-21\n",
    "\n",
    "#### Intended use \n",
    "\n",
    "This is a standardized template for the lsp. It defines the following:\n",
    "\n",
    "1. Directory structure \n",
    "2. File names\n",
    "3. Data access methods \n",
    "4. Formatting \n",
    "5. Required fields\n",
    "\n",
    "Contact hammerdirt if you plan on submitting your work for publication. We may be able to direct you to ressources or have some insight that could help.\n",
    "\n",
    "#### How to save your version\n",
    "\n",
    "Save your files in the following format: lastname_firstname_x, where x is equal to the number of notebooks you have in the repo. See the sample note book in this repo.\n",
    "\n",
    "#### How to save charts, data, files \n",
    "\n",
    "Use the same prefix for all files, lastname_firstname_one_scatter.svg, or lastname_firstname_one.csv etc... \n",
    "\n",
    "#### Keep the subject per notebook limited \n",
    "\n",
    "Keep your notebooks focussed and limited in scope. Better to produce a couple of notebooks that build on each other than to create a big doc that is difficult to follow.\n",
    "\n",
    "#### Use utility files\n",
    "\n",
    "There is a folder called utility files. You can store your methods, just prefix them example: lastname_firstname_utility_one.py.\n",
    "\n",
    "#### Don't lose time doing lengthy transformations\n",
    "\n",
    "If you find your self doing extensive itterations let us know how the data can be formatted on the server side to speed things up for you. Chances are if you need the resullts in a certain way others will too.\n",
    "\n",
    "#### Adding to requirements.txt\n",
    "\n",
    "Why isn't seaborn in here ? Because it wasn't imported! Check the requirements.txt file first (seaborn is in there).\n",
    "\n",
    "#### Using Bokeh\n",
    "\n",
    "If you are familiar and want to produce content for the app, go for it! \n",
    "\n",
    "#### Contact \n",
    "\n",
    "roger@hammerdirt.ch"
   ]
  },
  {
   "cell_type": "markdown",
   "metadata": {},
   "source": [
    "#### Imports"
   ]
  },
  {
   "cell_type": "code",
   "execution_count": 2,
   "metadata": {},
   "outputs": [],
   "source": [
    "# you can add to the imports as you like\n",
    "# see the requirements.txt file for whats in the env\n",
    "\n",
    "import os\n",
    "import scipy.stats\n",
    "import matplotlib.pyplot as plt\n",
    "import matplotlib\n",
    "import numpy as np\n",
    "import statsmodels.api as sm\n",
    "import pandas as pd\n",
    "import patsy\n",
    "# this you will need to get the data\n",
    "import requests"
   ]
  },
  {
   "cell_type": "markdown",
   "metadata": {},
   "source": [
    "### State your purpose\n",
    "\n",
    "Make it easy to understand what you are trying to show and what are the practical apllications.\n",
    "\n",
    "#### Briefly\n",
    "\n",
    "Tell us why you are doing this... studies, personal interest, professional"
   ]
  },
  {
   "cell_type": "markdown",
   "metadata": {},
   "source": [
    "### Get the data\n",
    "\n",
    "The api is here [https://mwshovel.pythonanywhere.com/](https://mwshovel.pythonanywhere.com/). Pick the endpoint(s) you need. Store them in a dictionary and load the dictionary into the provided script.\n",
    "\n",
    "The script will make a folder lastname_firstname_x_jsons and store your request in a JSON object using the dictionary key value as the file name. Then you can access the data locally.\n",
    "\n",
    "__Tip:__ Put this script in your utilities file and remove requests from the import line."
   ]
  },
  {
   "cell_type": "code",
   "execution_count": 3,
   "metadata": {},
   "outputs": [],
   "source": [
    "# sample script for getting data"
   ]
  },
  {
   "cell_type": "code",
   "execution_count": null,
   "metadata": {},
   "outputs": [],
   "source": []
  }
 ],
 "metadata": {
  "hide_input": false,
  "kernelspec": {
   "display_name": "Python 3",
   "language": "python",
   "name": "python3"
  },
  "language_info": {
   "codemirror_mode": {
    "name": "ipython",
    "version": 3
   },
   "file_extension": ".py",
   "mimetype": "text/x-python",
   "name": "python",
   "nbconvert_exporter": "python",
   "pygments_lexer": "ipython3",
   "version": "3.7.0"
  }
 },
 "nbformat": 4,
 "nbformat_minor": 2
}
