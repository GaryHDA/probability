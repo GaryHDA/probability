{
 "cells": [
  {
   "cell_type": "markdown",
   "metadata": {},
   "source": [
    "### Starter template litter surveillance project (lsp) 20-21\n",
    "\n",
    "### This template is still under development. Expected completion date is  01-31-2020\n",
    "\n",
    "#### Intended use \n",
    "\n",
    "This is a standardized template for the lsp. It defines the following:\n",
    "\n",
    "1. Directory structure \n",
    "2. File names\n",
    "3. Data access methods \n",
    "4. Formatting \n",
    "5. Required fields\n",
    "\n",
    "Contact hammerdirt if you plan on submitting your work for publication. We may be able to direct you to ressources or have some insight that could help.\n",
    "\n",
    "#### How to save your version\n",
    "\n",
    "Save your files in the following format: lastname_firstname_x, where x is equal to the number of notebooks you have in the repo. See the examples below repo.\n",
    "\n",
    "#### How to save charts, data, files \n",
    "\n",
    "Use the same prefix for all files, lastname_firstname_one_scatter.svg, or lastname_firstname_one.csv etc... \n",
    "\n",
    "#### Keep the subject per notebook limited \n",
    "\n",
    "Keep your notebooks focussed and limited in scope. Better to produce a couple of notebooks that build on each other than to create a big doc that is difficult to follow.\n",
    "\n",
    "#### Use utility files\n",
    "\n",
    "There is a folder called utility files. You can store your methods, just prefix them example: lastname_firstname_utility_one.py.\n",
    "\n",
    "#### Don't lose time doing lengthy transformations\n",
    "\n",
    "If you find your self doing extensive itterations let us know how the data can be formatted on the server side to speed things up for you. Chances are if you need the results in a certain way others will too.\n",
    "\n",
    "#### Adding to requirements.txt\n",
    "\n",
    "Why isn't seaborn in here ? Because it wasn't imported! Check the requirements.txt file first (seaborn is in there).\n",
    "\n",
    "#### Using Bokeh\n",
    "\n",
    "If you are familiar and want to produce content for the app, go for it!\n",
    "\n",
    "#### Why are we using JSON format for data?\n",
    "\n",
    "These visualisations are destined to be included in a web application, there fore we need to include the data in a format that is easily consumed by D3 or ReactJS.\n",
    "\n",
    "#### Contact \n",
    "\n",
    "roger@hammerdirt.ch"
   ]
  },
  {
   "cell_type": "markdown",
   "metadata": {},
   "source": [
    "#### Imports"
   ]
  },
  {
   "cell_type": "code",
   "execution_count": 1,
   "metadata": {},
   "outputs": [],
   "source": [
    "# you can add to the imports as you like\n",
    "# see the requirements.txt file for whats in the env\n",
    "\n",
    "import os\n",
    "import os.path\n",
    "import scipy.stats\n",
    "import matplotlib.pyplot as plt\n",
    "import matplotlib\n",
    "import numpy as np\n",
    "import statsmodels.api as sm\n",
    "import pandas as pd\n",
    "import patsy\n",
    "# this you will need to get the data\n",
    "import requests\n",
    "import json\n",
    "# set your file prefix\n",
    "file_prefix = \"lastname_firstname\"\n",
    "notebook_number = \"_one\"\n",
    "# set the curernt working directory \n",
    "current_directory = os.getcwd()\n",
    "my_json_folder = '{}{}_jsons'.format(file_prefix, notebook_number)\n",
    "my_svg_folder = '{}{}_svgs'.format(file_prefix, notebook_number)\n",
    "# use this to either use previously saved data or to get fresh data \n",
    "use_local = False # use local when possible"
   ]
  },
  {
   "cell_type": "markdown",
   "metadata": {},
   "source": [
    "### <font color = blue>State your purpose</font>\n",
    "\n",
    "Make it easy to understand what you are trying to show and what are the practical apllications.\n",
    "\n",
    "#### <font color = blue>Briefly</font>\n",
    "\n",
    "Tell us why you are doing this... studies, personal interest, professional"
   ]
  },
  {
   "cell_type": "markdown",
   "metadata": {},
   "source": [
    "### <font color = blue>Get the data</font>\n",
    "\n",
    "Getting data is simple, the api is here [https://mwshovel.pythonanywhere.com/](https://mwshovel.pythonanywhere.com/). Pick the endpoint(s) you need. Store them in a dictionary and load the dictionary into the provided script.\n",
    "\n",
    "The script will make a folder lastname_firstname_x_jsons and store your request in a JSON object in the json directory of the repo. Using the dictionary key values as filenames. Then you can access the data locally.\n",
    "\n",
    "#### <font color = blue>Sorting categories</font> \n",
    "\n",
    "There are endpoints that provide grouped locations:\n",
    "\n",
    "1. https://mwshovel.pythonanywhere.com/api/list-of-beaches/by-category/ : returns an array of grouped locations, one group for each city, body of water and postal-code.\n",
    "\n",
    "2. https://mwshovel.pythonanywhere.com/api/list-of-beaches/categories/ : returns an array of grouped categories cities, rivers, lakes and postal codes.\n",
    "\n",
    "I will be adding code groups soon! See the example on sorting.\n",
    "\n",
    "__You can make your own script__ as long as you use the directory name specified by \"my_json_folder\"."
   ]
  },
  {
   "cell_type": "code",
   "execution_count": 2,
   "metadata": {},
   "outputs": [],
   "source": [
    "# sample script for getting data\n",
    "# you provide this data\n",
    "import os.path\n",
    "requested = {\n",
    "    \"beaches\":\"https://mwshovel.pythonanywhere.com/api/list-of-beaches/\",\n",
    "    \"daily_totals\":\"https://mwshovel.pythonanywhere.com/api/surveys/daily-totals/\",\n",
    "    \"code_defs\":\"https://mwshovel.pythonanywhere.com/api/mlw-codes/list/\",\n",
    "    \"sorted_location\":\"https://mwshovel.pythonanywhere.com/api/list-of-beaches/by-category/\"\n",
    "}\n",
    "file_names = [\"beaches\", \"daily_totals\"]\n",
    "def directory_name(current_directory, my_json_folder):\n",
    "    return '{}/{}/'.format(current_directory, my_json_folder)\n",
    "def make_json_dir(directory_name):\n",
    "    try:\n",
    "        os.mkdir(directory_name)\n",
    "        message = '{} created'.format(directory_name)\n",
    "        success=True\n",
    "    except OSError:\n",
    "        message = 'Unable to create {}'.format(directory_name)\n",
    "        success=False        \n",
    "    print(message)\n",
    "    return success\n",
    "def get_file_names_prefix(a_dict):\n",
    "    return list(a_dict.keys())\n",
    "def get_data_from_endpoint(an_endpoint):\n",
    "    return requests.get(an_endpoint)\n",
    "def make_file_name(name,file_extension):\n",
    "    return '{}.{}'.format(name,file_extension)\n",
    "def make_file_path(my_json_folder, file_name):\n",
    "    return '{}/{}'.format(my_json_folder, file_name) \n",
    "def save_a_json_file(save_to, some_data, file_name):    \n",
    "    try:\n",
    "        with open(save_to, 'w') as fresh_data:\n",
    "            json.dump(some_data.json(), fresh_data)\n",
    "        message=succes_string(file_name, save_to)\n",
    "        success = True\n",
    "    except OSError:\n",
    "        message=error_string(file_name, save_to)\n",
    "        success=False\n",
    "    return success, message\n",
    "def succes_string(file_name, save_to):\n",
    "    return '{} saved to {}'.format(file_name, save_to)\n",
    "def error_string(file_name, save_to):\n",
    "    return 'Unable to save {} to {}'.format(file_name, save_to)\n",
    "def get_a_json_file(file_name_directory):    \n",
    "    with open(file_name) as json_data:\n",
    "        d = json.load(json_data)\n",
    "        return d\n",
    "def use_local_data(a_list, jsons_directory, file_extension):\n",
    "    \"\"\"\n",
    "    Retrieves json data from local directory\n",
    "    \n",
    "    accepts an array of filenames\n",
    "    \"\"\"\n",
    "    my_local_data = {}\n",
    "    for name in a_list:\n",
    "        file_name = make_file_name(name,file_extension)\n",
    "        file_path = make_file_path(my_json_folder, file_name)\n",
    "        with open(file_path) as json_data:\n",
    "            d = json.load(json_data)\n",
    "            my_local_data[name] = d\n",
    "    return my_local_data\n",
    "    \n",
    "\n",
    "def get_and_store_api_data(requested, my_json_folder, file_extension, current_directory):\n",
    "    \"\"\"\n",
    "    Gets and saves json data from an endpoint.\n",
    "    \n",
    "    Accepts four variables:\n",
    "    \n",
    "    1. requested: a dictionary of endpoints\n",
    "    2. my_json_folder: the directory to store the files \n",
    "    3. files extension: the .extension of the file you are saving\n",
    "    4. current_directory: the value of os.getcwd()\n",
    "    \n",
    "    Returns a dict where keys = the keys of the \"requested\" dictionary and\n",
    "    values = data from the endpoint.\n",
    "    \n",
    "    Saves the successfull request to the directory specified by \"my_json_folder\"\n",
    "    \n",
    "    if request is unsuccessfull returns an empty dictionary and an error message\n",
    "    \"\"\"\n",
    "    directory = directory_name(current_directory, my_json_folder)\n",
    "    file_names = get_file_names_prefix(requested)\n",
    "    if os.path.isdir(directory):\n",
    "        success_count = 0\n",
    "        for name in file_names:\n",
    "            an_endpoint = requested[name]\n",
    "            some_data = get_data_from_endpoint(an_endpoint)\n",
    "            if some_data.status_code == 200:\n",
    "                file_name = make_file_name(name,file_extension)\n",
    "                save_to = make_file_path(my_json_folder, file_name)\n",
    "                success, message =  save_a_json_file(save_to, some_data, file_name)\n",
    "                if success:\n",
    "                    print(message)\n",
    "                    success_count += 1\n",
    "                else:\n",
    "                    print(\"There was a filename or directory name error\")\n",
    "                    print(message)                    \n",
    "            else:\n",
    "                print('Sorry there was a {} error'.format(some_data.status_code))                \n",
    "        if success_count == len(file_names):\n",
    "            data = use_local_data(file_names, my_json_folder, file_extension)\n",
    "        else:\n",
    "            print(\"The request was unsuccessfull\")\n",
    "            \n",
    "    else:\n",
    "        json_dir = make_json_dir(directory)\n",
    "        if json_dir:\n",
    "            success_count = 0\n",
    "            for name in file_names:\n",
    "                an_endpoint = requested[name]\n",
    "                some_data = get_data_from_endpoint(an_endpoint)\n",
    "                if some_data.status_code == 200:\n",
    "                    file_name = make_file_name(name,file_extension)\n",
    "                    save_to = make_file_path(my_json_folder, file_name)\n",
    "                    success, message =  save_a_json_file(save_to, some_data, file_name)\n",
    "                    if success:\n",
    "                        print(message)\n",
    "                        success_count += 1\n",
    "                    else:\n",
    "                        print(\"There was a filename or directory name error\")\n",
    "                        print(message)\n",
    "                else:\n",
    "                    print('Sorry there was a {} error'.format(some_data.status_code))                    \n",
    "        if success_count == len(file_names):\n",
    "            data = use_local_data(file_names, my_json_folder, file_extension)\n",
    "        else:\n",
    "            print(\"The request was unsuccessfull\")\n",
    "    return data"
   ]
  },
  {
   "cell_type": "code",
   "execution_count": 3,
   "metadata": {},
   "outputs": [
    {
     "name": "stdout",
     "output_type": "stream",
     "text": [
      "beaches.json saved to lastname_firstname_one_jsons/beaches.json\n",
      "daily_totals.json saved to lastname_firstname_one_jsons/daily_totals.json\n",
      "code_defs.json saved to lastname_firstname_one_jsons/code_defs.json\n",
      "sorted_location.json saved to lastname_firstname_one_jsons/sorted_location.json\n"
     ]
    }
   ],
   "source": [
    "my_jsons = get_and_store_api_data(requested, my_json_folder, \"json\", current_directory)"
   ]
  },
  {
   "cell_type": "markdown",
   "metadata": {},
   "source": [
    "#### <font color = blue>Read the requested data in</font>\n",
    "\n",
    "You can use any method you want to read in data. The method returns a dictionary of objects that can be read in or you can use the file that was saved. For example this is valid:"
   ]
  },
  {
   "cell_type": "code",
   "execution_count": 4,
   "metadata": {},
   "outputs": [
    {
     "name": "stdout",
     "output_type": "stream",
     "text": [
      "{'location': 'A l ombre', 'latitude': '43.81119100', 'longitude': '4.64817800', 'city': 'Beaucaire', 'post': '30032', 'country': 'FR', 'water': 'r', 'water_name': 'Rhöne en aval', 'slug': 'a-l-ombre', 'city_slug': 'beaucaire', 'water_name_slug': 'rhone-en-aval'}\n"
     ]
    }
   ],
   "source": [
    "def read_the_json(file):\n",
    "    with open(file) as some_data:\n",
    "        requested = json.load(some_data)\n",
    "        return requested\n",
    "\n",
    "my_beaches = read_the_json(\"lastname_firstname_one_jsons/beaches.json\")\n",
    "my_daily_totals = read_the_json(\"lastname_firstname_one_jsons/daily_totals.json\")\n",
    "my_code_defs = read_the_json(\"lastname_firstname_one_jsons/code_defs.json\")\n",
    "my_sorted_locations = read_the_json(\"lastname_firstname_one_jsons/sorted_location.json\")\n",
    "\n",
    "# it returns an array of dictionaries\n",
    "# take a look at the first result\n",
    "print(my_beaches[0])"
   ]
  },
  {
   "cell_type": "code",
   "execution_count": 5,
   "metadata": {},
   "outputs": [
    {
     "data": {
      "text/html": [
       "<div>\n",
       "<style scoped>\n",
       "    .dataframe tbody tr th:only-of-type {\n",
       "        vertical-align: middle;\n",
       "    }\n",
       "\n",
       "    .dataframe tbody tr th {\n",
       "        vertical-align: top;\n",
       "    }\n",
       "\n",
       "    .dataframe thead th {\n",
       "        text-align: right;\n",
       "    }\n",
       "</style>\n",
       "<table border=\"1\" class=\"dataframe\">\n",
       "  <thead>\n",
       "    <tr style=\"text-align: right;\">\n",
       "      <th></th>\n",
       "      <th>city</th>\n",
       "      <th>city_slug</th>\n",
       "      <th>country</th>\n",
       "      <th>latitude</th>\n",
       "      <th>location</th>\n",
       "      <th>longitude</th>\n",
       "      <th>post</th>\n",
       "      <th>slug</th>\n",
       "      <th>water</th>\n",
       "      <th>water_name</th>\n",
       "      <th>water_name_slug</th>\n",
       "    </tr>\n",
       "  </thead>\n",
       "  <tbody>\n",
       "    <tr>\n",
       "      <th>0</th>\n",
       "      <td>Beaucaire</td>\n",
       "      <td>beaucaire</td>\n",
       "      <td>FR</td>\n",
       "      <td>43.811191</td>\n",
       "      <td>A l ombre</td>\n",
       "      <td>4.648178</td>\n",
       "      <td>30032</td>\n",
       "      <td>a-l-ombre</td>\n",
       "      <td>r</td>\n",
       "      <td>Rhöne en aval</td>\n",
       "      <td>rhone-en-aval</td>\n",
       "    </tr>\n",
       "    <tr>\n",
       "      <th>1</th>\n",
       "      <td>Bern</td>\n",
       "      <td>bern</td>\n",
       "      <td>CH</td>\n",
       "      <td>46.971010</td>\n",
       "      <td>aarezufluss_bern_scheurerk</td>\n",
       "      <td>7.452790</td>\n",
       "      <td>3004</td>\n",
       "      <td>aarezufluss_bern_scheurerk</td>\n",
       "      <td>r</td>\n",
       "      <td>Aare</td>\n",
       "      <td>aare</td>\n",
       "    </tr>\n",
       "  </tbody>\n",
       "</table>\n",
       "</div>"
      ],
      "text/plain": [
       "        city  city_slug country   latitude                    location  \\\n",
       "0  Beaucaire  beaucaire      FR  43.811191                   A l ombre   \n",
       "1       Bern       bern      CH  46.971010  aarezufluss_bern_scheurerk   \n",
       "\n",
       "   longitude   post                        slug water     water_name  \\\n",
       "0   4.648178  30032                   a-l-ombre     r  Rhöne en aval   \n",
       "1   7.452790   3004  aarezufluss_bern_scheurerk     r           Aare   \n",
       "\n",
       "  water_name_slug  \n",
       "0   rhone-en-aval  \n",
       "1            aare  "
      ]
     },
     "execution_count": 5,
     "metadata": {},
     "output_type": "execute_result"
    }
   ],
   "source": [
    "# or directly into a data frame\n",
    "my_beach_df = pd.read_json(\"lastname_firstname_one_jsons/beaches.json\", orient='records')\n",
    "my_beach_df.iloc[:2]"
   ]
  },
  {
   "cell_type": "markdown",
   "metadata": {},
   "source": [
    "### <font color = blue>Sorting data </font>\n",
    "\n",
    "This study is concerned with the quantity, type and dispersion of litter along Swiss lakes and rivers. Therefore location is a primary sorting category and there is an endpoint dedicated to just that.\n",
    "\n",
    "The locations have five categories:\n",
    "\n",
    "1. Lake or river\n",
    "2. Lake or river name \n",
    "3. City name \n",
    "4. Postal code\n",
    "\n",
    "<font color=red>There will be two new categories added -- source and basin</font>\n",
    "\n",
    "For now lets use the existing categories to identify all the locations on Thunersee. "
   ]
  },
  {
   "cell_type": "markdown",
   "metadata": {},
   "source": [
    "#### <font color = blue>Sorting locations by categories</font>"
   ]
  },
  {
   "cell_type": "code",
   "execution_count": 6,
   "metadata": {},
   "outputs": [
    {
     "name": "stdout",
     "output_type": "stream",
     "text": [
      "{'location': 'Aare', 'beaches': ['aarezufluss_bern_scheurerk', 'aare_bern_caveltin', 'aare_bern_gerberm', 'aare_bern_scheurerk', 'aare_brugg_buchie', 'aare_elfenau_cataldiv', 'aare_kehrsatz_stolten', 'aare_koniz_hoppej', 'aare_rupperswil_badert', 'aare_solothurn_nguyena', 'aare_suhrespitz_badert']}\n"
     ]
    }
   ],
   "source": [
    "# this is the general output from the sorted locations endpoint:\n",
    "print(my_sorted_locations[1])"
   ]
  },
  {
   "cell_type": "code",
   "execution_count": 7,
   "metadata": {},
   "outputs": [
    {
     "data": {
      "text/plain": [
       "['thunersee_spiez_meierd_1']"
      ]
     },
     "execution_count": 7,
     "metadata": {},
     "output_type": "execute_result"
    }
   ],
   "source": [
    "def beaches_per_location(a_list, an_arg):\n",
    "    return [x['beaches'][0] for x in a_list if x['location'] == an_arg]\n",
    "thunersee = beaches_per_location(my_sorted_locations, \"Thunersee\")\n",
    "thunersee"
   ]
  },
  {
   "cell_type": "code",
   "execution_count": 8,
   "metadata": {},
   "outputs": [
    {
     "data": {
      "text/html": [
       "<div>\n",
       "<style scoped>\n",
       "    .dataframe tbody tr th:only-of-type {\n",
       "        vertical-align: middle;\n",
       "    }\n",
       "\n",
       "    .dataframe tbody tr th {\n",
       "        vertical-align: top;\n",
       "    }\n",
       "\n",
       "    .dataframe thead th {\n",
       "        text-align: right;\n",
       "    }\n",
       "</style>\n",
       "<table border=\"1\" class=\"dataframe\">\n",
       "  <thead>\n",
       "    <tr style=\"text-align: right;\">\n",
       "      <th></th>\n",
       "      <th>city</th>\n",
       "      <th>city_slug</th>\n",
       "      <th>country</th>\n",
       "      <th>latitude</th>\n",
       "      <th>location</th>\n",
       "      <th>longitude</th>\n",
       "      <th>post</th>\n",
       "      <th>slug</th>\n",
       "      <th>water</th>\n",
       "      <th>water_name</th>\n",
       "      <th>water_name_slug</th>\n",
       "    </tr>\n",
       "  </thead>\n",
       "  <tbody>\n",
       "    <tr>\n",
       "      <th>124</th>\n",
       "      <td>Spiez</td>\n",
       "      <td>spiez</td>\n",
       "      <td>CH</td>\n",
       "      <td>46.704437</td>\n",
       "      <td>thunersee_spiez_meierd_1</td>\n",
       "      <td>7.657882</td>\n",
       "      <td>3646</td>\n",
       "      <td>thunersee_spiez_meierd_1</td>\n",
       "      <td>l</td>\n",
       "      <td>Thunersee</td>\n",
       "      <td>thunersee</td>\n",
       "    </tr>\n",
       "  </tbody>\n",
       "</table>\n",
       "</div>"
      ],
      "text/plain": [
       "      city city_slug country   latitude                  location  longitude  \\\n",
       "124  Spiez     spiez      CH  46.704437  thunersee_spiez_meierd_1   7.657882   \n",
       "\n",
       "     post                      slug water water_name water_name_slug  \n",
       "124  3646  thunersee_spiez_meierd_1     l  Thunersee       thunersee  "
      ]
     },
     "execution_count": 8,
     "metadata": {},
     "output_type": "execute_result"
    }
   ],
   "source": [
    "# in pandas\n",
    "my_beach_df.loc[my_beach_df.water_name == \"Thunersee\"]"
   ]
  },
  {
   "cell_type": "markdown",
   "metadata": {},
   "source": [
    "#### <font color = blue>Thats great, but how do I know the lake or city names ?</font>\n",
    "\n",
    "There is an endpoint for that. "
   ]
  },
  {
   "cell_type": "code",
   "execution_count": 9,
   "metadata": {},
   "outputs": [
    {
     "name": "stdout",
     "output_type": "stream",
     "text": [
      "cities_lakes.json saved to lastname_firstname_one_jsons/cities_lakes.json\n"
     ]
    }
   ],
   "source": [
    "# make the data local first\n",
    "# use the endpoint to get the list:\n",
    "requested = {\"cities_lakes\":\"https://mwshovel.pythonanywhere.com/api/list-of-beaches/categories/\"}\n",
    "my_jsons = get_and_store_api_data(requested, my_json_folder, \"json\", current_directory)"
   ]
  },
  {
   "cell_type": "code",
   "execution_count": 10,
   "metadata": {},
   "outputs": [
    {
     "name": "stdout",
     "output_type": "stream",
     "text": [
      "['Bielersee', 'Bodensee', 'Greifensee', 'Katzensee', 'Lac Léman', 'Neuenburgersee', 'Quatre Cantons', 'Schiffenensee', 'Sempachsee', 'Sihlsee', 'Thunersee', 'Untersee', 'Walensee', 'Zugersee', 'Zurichsee']\n"
     ]
    }
   ],
   "source": [
    "lakes = [x['results'] for x in my_jsons['cities_lakes'] if x['category'] == 'lakes'][0]\n",
    "print(lakes)"
   ]
  },
  {
   "cell_type": "markdown",
   "metadata": {},
   "source": [
    "#### <font color = blue>Sorting by object type, material or use</font>\n",
    "\n",
    "The code data holds the properties for each type of object found. The properties are:\n",
    "\n",
    "1. Code\n",
    "2. Material\n",
    "3. Source\n",
    "\n",
    "<font color=red>There will be three new properties added -- single-use & micro-plastic (both boolean) and source_two an alternate or local source code.</font>\n",
    "\n",
    "Lets start by looking at one code definition"
   ]
  },
  {
   "cell_type": "code",
   "execution_count": 11,
   "metadata": {},
   "outputs": [
    {
     "name": "stdout",
     "output_type": "stream",
     "text": [
      "{'code': 'G21', 'material': 'Plastic', 'description': 'Drink lids', 'source': 'Packaging'}\n"
     ]
    }
   ],
   "source": [
    "# get one code definition from the list\n",
    "# the index number is non specific and may change with each query \n",
    "# therefore codes should always be called by a property value\n",
    "print(my_code_defs[101])"
   ]
  },
  {
   "cell_type": "code",
   "execution_count": 12,
   "metadata": {},
   "outputs": [
    {
     "name": "stdout",
     "output_type": "stream",
     "text": [
      "{'code': 'G141', 'material': 'Cloth', 'description': 'Carpet ', 'source': 'Utility items'}\n"
     ]
    }
   ],
   "source": [
    "# get all the codes with a source of \"Utility items\"\n",
    "def objects_per_group(a_list, a_group, an_arg):\n",
    "    return [x for x in a_list if x[a_group] == an_arg]\n",
    "utility_items = objects_per_group(my_code_defs, \"source\", \"Utility items\")\n",
    "# print the first object\n",
    "print(utility_items[0])"
   ]
  },
  {
   "cell_type": "code",
   "execution_count": null,
   "metadata": {},
   "outputs": [],
   "source": []
  }
 ],
 "metadata": {
  "hide_input": false,
  "kernelspec": {
   "display_name": "Python 3",
   "language": "python",
   "name": "python3"
  },
  "language_info": {
   "codemirror_mode": {
    "name": "ipython",
    "version": 3
   },
   "file_extension": ".py",
   "mimetype": "text/x-python",
   "name": "python",
   "nbconvert_exporter": "python",
   "pygments_lexer": "ipython3",
   "version": "3.7.0"
  }
 },
 "nbformat": 4,
 "nbformat_minor": 2
}
